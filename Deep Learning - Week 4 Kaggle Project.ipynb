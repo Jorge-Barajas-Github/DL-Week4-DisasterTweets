{
 "cells": [
  {
   "cell_type": "markdown",
   "id": "857c26a7-2ff3-4e3f-8b11-a6ac7d014174",
   "metadata": {},
   "source": [
    "## Deep Learning: Natural Language Processing with Disaster Tweets\n",
    "\n",
    "### Section 1: Problem Description & Data Summary\n",
    "### Problem description\n",
    "The goal of this project is to build a machine learning model that can predict whether a given tweet refers to a real disaster or does not refer to a real disaster. The data comes from the \"Natural Language Processing with Disaster Tweets\" dataset from the Kaggle competition. The project serves as a good intro to Natural Language Processing, NLP, involving analyzing and understanding language. In regards to the real world applicability, being able to find and identify messages from social media related to emergencies is extremely important and may save a lot of lives. \n",
    "\n",
    "### Data Summary\n",
    "The dataset comes from Kaggle's competiiton dataset and contains a total of 10,929 tweets of data split into two different files, a train dataset and a test dataset. Each tweet is in a single roow along with other features. The main columns are the text column which contains the raw tweet and the target column which is a binary variable identifying whether the disaster in the tweet was real or not.  "
   ]
  },
  {
   "cell_type": "markdown",
   "id": "15ed23dc-f6a4-4f2e-b90a-2f576713b46c",
   "metadata": {},
   "source": [
    "### Codebook\n",
    "| Column Name | Description                                                                                                                     |\n",
    "| ----------- | ------------------------------------------------------------------------------------------------------------------------------- |\n",
    "| `id`        | Unique identifier                                                                                     |\n",
    "| `keyword`   | A disaster-related keyword from the tweet                                                        |\n",
    "| `location`  | The location associated with the tweet                                                                        |\n",
    "| `text`      | The content of the tweet                                  |\n",
    "| `target`    | Binary target variable:`1` = real disaster, `0` = false disaster |\n"
   ]
  },
  {
   "cell_type": "code",
   "execution_count": 1,
   "id": "397f2cf4-e02e-460d-a14a-e419c6d0d6b1",
   "metadata": {},
   "outputs": [],
   "source": [
    "import pandas as pd\n",
    "import numpy as np\n",
    "import matplotlib.pyplot as plt\n",
    "import seaborn as sns\n",
    "import re\n",
    "import string\n",
    "from sklearn.model_selection import train_test_split\n",
    "from sklearn.metrics import classification_report, accuracy_score\n",
    "\n",
    "from sklearn.feature_extraction.text import TfidfVectorizer\n",
    "from sklearn.linear_model import LogisticRegression\n",
    "\n",
    "from tensorflow.keras.preprocessing.text import Tokenizer\n",
    "from tensorflow.keras.preprocessing.sequence import pad_sequences\n",
    "from tensorflow.keras.models import Sequential\n",
    "from tensorflow.keras.layers import Embedding, LSTM, Dense\n",
    "\n",
    "df = pd.read_csv('train.csv')"
   ]
  },
  {
   "cell_type": "markdown",
   "id": "b3f4f500-2d0d-4d7b-9b98-2ffc5095fcde",
   "metadata": {},
   "source": [
    "### Section 2: EDA"
   ]
  },
  {
   "cell_type": "code",
   "execution_count": 2,
   "id": "fcadd03f-5fc3-4b71-a2f5-08c08ea46fd8",
   "metadata": {},
   "outputs": [
    {
     "data": {
      "text/html": [
       "<div>\n",
       "<style scoped>\n",
       "    .dataframe tbody tr th:only-of-type {\n",
       "        vertical-align: middle;\n",
       "    }\n",
       "\n",
       "    .dataframe tbody tr th {\n",
       "        vertical-align: top;\n",
       "    }\n",
       "\n",
       "    .dataframe thead th {\n",
       "        text-align: right;\n",
       "    }\n",
       "</style>\n",
       "<table border=\"1\" class=\"dataframe\">\n",
       "  <thead>\n",
       "    <tr style=\"text-align: right;\">\n",
       "      <th></th>\n",
       "      <th>id</th>\n",
       "      <th>keyword</th>\n",
       "      <th>location</th>\n",
       "      <th>text</th>\n",
       "      <th>target</th>\n",
       "    </tr>\n",
       "  </thead>\n",
       "  <tbody>\n",
       "    <tr>\n",
       "      <th>0</th>\n",
       "      <td>1</td>\n",
       "      <td>NaN</td>\n",
       "      <td>NaN</td>\n",
       "      <td>Our Deeds are the Reason of this #earthquake M...</td>\n",
       "      <td>1</td>\n",
       "    </tr>\n",
       "    <tr>\n",
       "      <th>1</th>\n",
       "      <td>4</td>\n",
       "      <td>NaN</td>\n",
       "      <td>NaN</td>\n",
       "      <td>Forest fire near La Ronge Sask. Canada</td>\n",
       "      <td>1</td>\n",
       "    </tr>\n",
       "    <tr>\n",
       "      <th>2</th>\n",
       "      <td>5</td>\n",
       "      <td>NaN</td>\n",
       "      <td>NaN</td>\n",
       "      <td>All residents asked to 'shelter in place' are ...</td>\n",
       "      <td>1</td>\n",
       "    </tr>\n",
       "    <tr>\n",
       "      <th>3</th>\n",
       "      <td>6</td>\n",
       "      <td>NaN</td>\n",
       "      <td>NaN</td>\n",
       "      <td>13,000 people receive #wildfires evacuation or...</td>\n",
       "      <td>1</td>\n",
       "    </tr>\n",
       "    <tr>\n",
       "      <th>4</th>\n",
       "      <td>7</td>\n",
       "      <td>NaN</td>\n",
       "      <td>NaN</td>\n",
       "      <td>Just got sent this photo from Ruby #Alaska as ...</td>\n",
       "      <td>1</td>\n",
       "    </tr>\n",
       "  </tbody>\n",
       "</table>\n",
       "</div>"
      ],
      "text/plain": [
       "   id keyword location                                               text  \\\n",
       "0   1     NaN      NaN  Our Deeds are the Reason of this #earthquake M...   \n",
       "1   4     NaN      NaN             Forest fire near La Ronge Sask. Canada   \n",
       "2   5     NaN      NaN  All residents asked to 'shelter in place' are ...   \n",
       "3   6     NaN      NaN  13,000 people receive #wildfires evacuation or...   \n",
       "4   7     NaN      NaN  Just got sent this photo from Ruby #Alaska as ...   \n",
       "\n",
       "   target  \n",
       "0       1  \n",
       "1       1  \n",
       "2       1  \n",
       "3       1  \n",
       "4       1  "
      ]
     },
     "execution_count": 2,
     "metadata": {},
     "output_type": "execute_result"
    }
   ],
   "source": [
    "df.head()"
   ]
  },
  {
   "cell_type": "code",
   "execution_count": 3,
   "id": "a4c9566f-a822-4a83-b710-c3aa17d53d86",
   "metadata": {},
   "outputs": [
    {
     "name": "stdout",
     "output_type": "stream",
     "text": [
      "Missing values:\n",
      " id             0\n",
      "keyword       61\n",
      "location    2533\n",
      "text           0\n",
      "target         0\n",
      "dtype: int64\n"
     ]
    }
   ],
   "source": [
    "print(\"Missing values:\\n\", df.isnull().sum())"
   ]
  },
  {
   "cell_type": "code",
   "execution_count": 4,
   "id": "1475a730-0de2-47ec-8a2b-ce8e28d7bd96",
   "metadata": {},
   "outputs": [
    {
     "data": {
      "image/png": "[encoded data removed]",
      "text/plain": [
       "<Figure size 640x480 with 1 Axes>"
      ]
     },
     "metadata": {},
     "output_type": "display_data"
    }
   ],
   "source": [
    "sns.countplot(data=df, x='target')\n",
    "plt.title(\"Class Distribution: Disaster vs Non-Disaster Tweets\")\n",
    "plt.xlabel(\"Target\")\n",
    "plt.ylabel(\"Tweet Count\")\n",
    "plt.xticks([0, 1], ['Not Disaster (0)', 'Disaster (1)'])\n",
    "plt.show()"
   ]
  },
  {
   "cell_type": "code",
   "execution_count": 5,
   "id": "00005121-b55b-415a-8b41-fb3ff8ec0a78",
   "metadata": {},
   "outputs": [],
   "source": [
    "def clean_text(text):\n",
    "    text = text.lower()\n",
    "    text = re.sub(r'http\\S+', '', text)\n",
    "    text = re.sub(r'@\\w+', '', text)\n",
    "    text = re.sub(r'#\\w+', '', text)\n",
    "    text = re.sub(r'[^a-zA-Z0-9\\s]', '', text)\n",
    "    return text\n",
    "\n",
    "df['clean_text'] = df['text'].apply(clean_text)"
   ]
  },
  {
   "cell_type": "markdown",
   "id": "5f1e787e-f918-47cc-991f-55e610ddfee8",
   "metadata": {},
   "source": [
    "### Section 3: Data Architecture\n",
    "To solve the project's goal, I implemented two different models: a TF-IDF vectorization with Logistic Regression model to serve as a baseline model similarily to how it was implemented a previous project. The second model was a more advanced sequential neural network that used a Long Short Term Memory architecture (LSTM). The idea is to be able to test out how different models would perform in this scenario. For the deep learning model, word toenization, padding, and an ebedded layer were used, implemented by the tensorflow library. Only a single LSTM layer with a small amount of units was used in order to keep the model simple and fast to train. "
   ]
  },
  {
   "cell_type": "code",
   "execution_count": 6,
   "id": "99bed5df-1b2e-4539-8fb6-0473d97633ec",
   "metadata": {},
   "outputs": [
    {
     "name": "stdout",
     "output_type": "stream",
     "text": [
      "Model 1 Accuracy: 0.7984241628365069\n",
      "              precision    recall  f1-score   support\n",
      "\n",
      "           0       0.79      0.89      0.84       874\n",
      "           1       0.82      0.67      0.74       649\n",
      "\n",
      "    accuracy                           0.80      1523\n",
      "   macro avg       0.80      0.78      0.79      1523\n",
      "weighted avg       0.80      0.80      0.79      1523\n",
      "\n"
     ]
    }
   ],
   "source": [
    "# Model1\n",
    "vectorizer = TfidfVectorizer(max_features=5000)\n",
    "X_tfidf = vectorizer.fit_transform(df['clean_text'])\n",
    "\n",
    "X_train, X_test, y_train, y_test = train_test_split(X_tfidf, df['target'], test_size=0.2, random_state=42)\n",
    "\n",
    "lr = LogisticRegression()\n",
    "lr.fit(X_train, y_train)\n",
    "lr_preds = lr.predict(X_test)\n",
    "\n",
    "# Evaluation\n",
    "print(\"Model 1 Accuracy:\", accuracy_score(y_test, lr_preds))\n",
    "print(classification_report(y_test, lr_preds))"
   ]
  },
  {
   "cell_type": "code",
   "execution_count": 7,
   "id": "46e7102e-bfb6-4286-96a0-7045d544ce09",
   "metadata": {},
   "outputs": [
    {
     "name": "stdout",
     "output_type": "stream",
     "text": [
      "Epoch 1/5\n"
     ]
    },
    {
     "name": "stderr",
     "output_type": "stream",
     "text": [
      "C:\\Users\\Rbjor\\Downloads\\New folder\\envs\\tf_env\\lib\\site-packages\\keras\\src\\layers\\core\\embedding.py:97: UserWarning: Argument `input_length` is deprecated. Just remove it.\n",
      "  warnings.warn(\n"
     ]
    },
    {
     "name": "stdout",
     "output_type": "stream",
     "text": [
      "\u001b[1m172/172\u001b[0m \u001b[32m━━━━━━━━━━━━━━━━━━━━\u001b[0m\u001b[37m\u001b[0m \u001b[1m5s\u001b[0m 19ms/step - accuracy: 0.5767 - loss: 0.6839 - val_accuracy: 0.5698 - val_loss: 0.6847\n",
      "Epoch 2/5\n",
      "\u001b[1m172/172\u001b[0m \u001b[32m━━━━━━━━━━━━━━━━━━━━\u001b[0m\u001b[37m\u001b[0m \u001b[1m3s\u001b[0m 17ms/step - accuracy: 0.5571 - loss: 0.6869 - val_accuracy: 0.5698 - val_loss: 0.6875\n",
      "Epoch 3/5\n",
      "\u001b[1m172/172\u001b[0m \u001b[32m━━━━━━━━━━━━━━━━━━━━\u001b[0m\u001b[37m\u001b[0m \u001b[1m3s\u001b[0m 18ms/step - accuracy: 0.5667 - loss: 0.6857 - val_accuracy: 0.5698 - val_loss: 0.6836\n",
      "Epoch 4/5\n",
      "\u001b[1m172/172\u001b[0m \u001b[32m━━━━━━━━━━━━━━━━━━━━\u001b[0m\u001b[37m\u001b[0m \u001b[1m3s\u001b[0m 17ms/step - accuracy: 0.5691 - loss: 0.6840 - val_accuracy: 0.5698 - val_loss: 0.6834\n",
      "Epoch 5/5\n",
      "\u001b[1m172/172\u001b[0m \u001b[32m━━━━━━━━━━━━━━━━━━━━\u001b[0m\u001b[37m\u001b[0m \u001b[1m4s\u001b[0m 21ms/step - accuracy: 0.5724 - loss: 0.6830 - val_accuracy: 0.5698 - val_loss: 0.6834\n"
     ]
    }
   ],
   "source": [
    "# Model 2\n",
    "tokenizer = Tokenizer(num_words=10000, oov_token=\"<OOV>\")\n",
    "tokenizer.fit_on_texts(df['clean_text'])\n",
    "sequences = tokenizer.texts_to_sequences(df['clean_text'])\n",
    "padded = pad_sequences(sequences, maxlen=100, padding='post', truncating='post')\n",
    "\n",
    "X_train_seq, X_test_seq, y_train_seq, y_test_seq = train_test_split(padded, df['target'], test_size=0.2, random_state=42)\n",
    "\n",
    "model = Sequential([\n",
    "    Embedding(input_dim=10000, output_dim=16, input_length=100),\n",
    "    LSTM(32),\n",
    "    Dense(1, activation='sigmoid')\n",
    "])\n",
    "\n",
    "model.compile(loss='binary_crossentropy', optimizer='adam', metrics=['accuracy'])\n",
    "\n",
    "history = model.fit(X_train_seq, y_train_seq, epochs=5, validation_split=0.1, batch_size=32)"
   ]
  },
  {
   "cell_type": "code",
   "execution_count": 8,
   "id": "c6fd93bf-5708-4a83-a332-80555914238c",
   "metadata": {},
   "outputs": [
    {
     "name": "stdout",
     "output_type": "stream",
     "text": [
      "\u001b[1m48/48\u001b[0m \u001b[32m━━━━━━━━━━━━━━━━━━━━\u001b[0m\u001b[37m\u001b[0m \u001b[1m0s\u001b[0m 7ms/step - accuracy: 0.5694 - loss: 0.6835\n",
      "LSTM Model Accuracy: 0.5738673806190491\n"
     ]
    },
    {
     "data": {
      "image/png": "[encoded data removed]",
      "text/plain": [
       "<Figure size 640x480 with 1 Axes>"
      ]
     },
     "metadata": {},
     "output_type": "display_data"
    }
   ],
   "source": [
    "loss, accuracy = model.evaluate(X_test_seq, y_test_seq)\n",
    "print(\"LSTM Model Accuracy:\", accuracy)\n",
    "\n",
    "plt.plot(history.history['accuracy'], label='Train')\n",
    "plt.plot(history.history['val_accuracy'], label='Validation')\n",
    "plt.title(\"Training vs Validation Accuracy\")\n",
    "plt.xlabel(\"Epoch\")\n",
    "plt.ylabel(\"Accuracy\")\n",
    "plt.legend()\n",
    "plt.show()"
   ]
  },
  {
   "cell_type": "code",
   "execution_count": 11,
   "id": "3067198c-8f50-437c-8dba-73d7bd34e439",
   "metadata": {},
   "outputs": [],
   "source": [
    "# For the Kaggle Submission\n",
    "test_df = pd.read_csv('test.csv')\n",
    "test_ids = test_df['id']\n",
    "test_df['clean_text'] = test_df['text'].apply(clean_text)\n",
    "\n",
    "X_test_tfidf = vectorizer.transform(test_df['clean_text'])\n",
    "\n",
    "lr_test_preds = lr.predict(X_test_tfidf)\n",
    "\n",
    "submission = pd.DataFrame({\n",
    "    'id': test_ids,\n",
    "    'target': lr_test_preds\n",
    "})\n",
    "\n",
    "submission.to_csv('submission.csv', index=False)"
   ]
  },
  {
   "cell_type": "markdown",
   "id": "537e666b-9ae3-42aa-8227-7161a3e3889b",
   "metadata": {},
   "source": [
    "### Results & Analysis\n",
    "The baseline models used TF-IDF to convert the cleaned tweets into a representation. The Logistic Regression classifier trained on that representation reached an accuracy of about 77.2% on the test set. This shows that the model was able to distinguish relatively well between which tweets that refered to real disasters vs tweets that didn't. In contrast, the the Long Short Term Memory model, trained over five epochs reached a validation performance of about 56.7%. The training accuracy increased accross the epochs as the model was being trained, but it didn't increase by a significant amount. This score suggests that the model was underfitting. \n",
    "\n",
    "### Conclusion\n",
    "In this project, I explored two different modeling approaches for classifying disaster related tweets, a TF-IDF with Logistic Regression to serve as a baseline model and a sequential deep learning model using an LSTM network. The baseline model performed significantly better than the LSTM, reaching an accuracy of about 77.2%, meanwhile the LSTM model reached an accuracy of 56.7%. These results were very surprising and go to show that complexity does not automatically equal better performance. \n",
    "\n",
    "Looking forward, process improvements can be implement to more accurately classify tweets. Some process improvements include adding dropout layers to help the neural network generalize better and trying out different architectures like GRUs. Also, data quality can be improved by adding more features to the dataset. I enjoyed this project and look forward to learn about more architectures in the following course lectures. "
   ]
  },
  {
   "cell_type": "code",
   "execution_count": null,
   "id": "d2fb822d-f5d4-4061-842d-fa7db4752adf",
   "metadata": {},
   "outputs": [],
   "source": []
  }
 ],
 "metadata": {
  "kernelspec": {
   "display_name": "Python 3 (ipykernel)",
   "language": "python",
   "name": "python3"
  },
  "language_info": {
   "codemirror_mode": {
    "name": "ipython",
    "version": 3
   },
   "file_extension": ".py",
   "mimetype": "text/x-python",
   "name": "python",
   "nbconvert_exporter": "python",
   "pygments_lexer": "ipython3",
   "version": "3.10.18"
  }
 },
 "nbformat": 4,
 "nbformat_minor": 5
}
